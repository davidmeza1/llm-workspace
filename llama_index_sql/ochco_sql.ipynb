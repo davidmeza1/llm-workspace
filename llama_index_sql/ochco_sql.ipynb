{
 "cells": [
  {
   "cell_type": "code",
   "execution_count": null,
   "metadata": {},
   "outputs": [],
   "source": [
    "import os\n",
    "\n"
   ]
  },
  {
   "cell_type": "code",
   "execution_count": 1,
   "metadata": {},
   "outputs": [],
   "source": [
    "\n",
    "# Connecting to SQL\n",
    "from llama_index.core import VectorStoreIndex, SQLDatabase, ServiceContext\n",
    "#from llama_index.core.tools import QueryEngineTool\n",
    "#from llama_index.core.query_engine import RouterQueryEngine\n",
    "#from llama_index.core.selectors import LLMSingleSelector\n",
    "from llama_index.llms import openai\n",
    "from sqlalchemy import insert, text, create_engine, MetaData\n",
    "from llama_index.core.query_engine import NLSQLTableQueryEngine\n",
    "from llama_index.core.query_engine import SQLTableRetrieverQueryEngine\n",
    "from llama_index.core.objects import SQLTableNodeMapping, ObjectIndex, SQLTableSchema\n",
    "# Setting local llm amd lLocal embeddings\n",
    "from llama_index.embeddings.huggingface import HuggingFaceEmbedding\n",
    "from llama_index.core import Settings\n",
    "from llama_index.core.embeddings import resolve_embed_model\n",
    "from llama_index.llms.ollama import Ollama\n",
    "Settings.llm = Ollama(model=\"llama2\", request_timeout=30.0)\n",
    "Settings.embed_model = resolve_embed_model(\"local:BAAI/bge-small-en-v1.5\")"
   ]
  },
  {
   "cell_type": "code",
   "execution_count": 2,
   "metadata": {},
   "outputs": [],
   "source": [
    "from sqlalchemy import (\n",
    "    create_engine,\n",
    "    MetaData,\n",
    "    Table,\n",
    "    Column,\n",
    "    String,\n",
    "    Integer,\n",
    "    select,\n",
    "    column,\n",
    ")"
   ]
  },
  {
   "cell_type": "code",
   "execution_count": 3,
   "metadata": {},
   "outputs": [],
   "source": [
    "import sqlalchemy"
   ]
  },
  {
   "cell_type": "code",
   "execution_count": 4,
   "metadata": {},
   "outputs": [],
   "source": [
    "# DB conncection information\n",
    "server = \"alteryxwkr.ndc.nasa.gov\"\n",
    "port = \"1433\"\n",
    "db = \"OCHCO\"\n",
    "driver = \"ODBC+Driver+18+for+SQL+Server\"\n",
    "schema = \"pdw_dev_trusted\"\n",
    "#engine = sqlalchemy.create_engine(f\"mssql://{server}/{db}?driver={driver}&port={port}&trusted_connection=yes\")\n",
    "#db_uri = f\"mssql://{server}/{db}?driver={driver}&port={port}&trusted_connection=yes\"\n",
    "\n",
    "db_uri = f\"mssql://{server}/{db}?driver={driver}&port={port}&trusted_connection=yes&options={{'schema':{schema}}}\""
   ]
  },
  {
   "cell_type": "code",
   "execution_count": 5,
   "metadata": {},
   "outputs": [],
   "source": [
    "#Create the engine\n",
    "db_engine = create_engine(db_uri)"
   ]
  },
  {
   "cell_type": "markdown",
   "metadata": {},
   "source": [
    "Now we need to create an ObjectIndex object that allows users to use our Index data structures over arbitrary objects. "
   ]
  },
  {
   "cell_type": "code",
   "execution_count": 6,
   "metadata": {},
   "outputs": [],
   "source": [
    "# load all table definitions\n",
    "metadata_obj = MetaData()\n",
    "metadata_obj.reflect(db_engine)\n",
    "\n",
    "sql_database = SQLDatabase(db_engine)\n",
    "\n",
    "table_node_mapping = SQLTableNodeMapping(sql_database)\n",
    "\n",
    "table_schema_objs = []\n",
    "for table_name in metadata_obj.tables.keys():\n",
    "    table_schema_objs.append(SQLTableSchema(table_name=table_name))\n",
    "\n",
    "# We dump the table schema information into a vector index. The vector index is stored within the context builder for future use.\n",
    "obj_index = ObjectIndex.from_objects(\n",
    "    table_schema_objs,\n",
    "    table_node_mapping,\n",
    "    VectorStoreIndex,\n",
    ")"
   ]
  },
  {
   "cell_type": "markdown",
   "metadata": {},
   "source": [
    " Create the query engine\n",
    "Now let us create our query engine. A query engine is a generic interface that allows you to ask questions over your data. We need to connect both our database and LLM to the engine:"
   ]
  },
  {
   "cell_type": "code",
   "execution_count": 7,
   "metadata": {},
   "outputs": [],
   "source": [
    "# We construct a SQLTableRetrieverQueryEngine. \n",
    "# Note that we pass in the ObjectRetriever so that we can dynamically retrieve the table during query-time.\n",
    "# ObjectRetriever: A retriever that retrieves a set of query engine tools.\n",
    "query_engine = SQLTableRetrieverQueryEngine(\n",
    "    sql_database,\n",
    "    obj_index.as_retriever(similarity_top_k=1),\n",
    "    #service_context=service_context,\n",
    ")"
   ]
  },
  {
   "cell_type": "markdown",
   "metadata": {},
   "source": [
    " Ask a query\n",
    "Finally, let us run a query against the query engine. We can also print out the metadata from the response which includes the sql query and its result:"
   ]
  },
  {
   "cell_type": "code",
   "execution_count": 8,
   "metadata": {},
   "outputs": [
    {
     "name": "stdout",
     "output_type": "stream",
     "text": [
      "Sorry, but I'm just an AI and do not have access to external databases or data sources. Therefore, I cannot provide a response to the query you provided as it requires access to the pdw_dev_trusted database. Additionally, the query is invalid SQL and will result in an error when run.\n",
      "\n",
      "If you have any other questions or queries that do not require external data sources, please feel free to ask!\n",
      "SELECT COUNT(*) FROM pdw_dev_trusted.personal_organization_data WHERE organization_hq = 'Center';\n"
     ]
    },
    {
     "ename": "KeyError",
     "evalue": "'result'",
     "output_type": "error",
     "traceback": [
      "\u001b[0;31m---------------------------------------------------------------------------\u001b[0m",
      "\u001b[0;31mKeyError\u001b[0m                                  Traceback (most recent call last)",
      "Cell \u001b[0;32mIn[8], line 5\u001b[0m\n\u001b[1;32m      3\u001b[0m \u001b[38;5;28mprint\u001b[39m(response)\n\u001b[1;32m      4\u001b[0m \u001b[38;5;28mprint\u001b[39m(response\u001b[38;5;241m.\u001b[39mmetadata[\u001b[38;5;124m'\u001b[39m\u001b[38;5;124msql_query\u001b[39m\u001b[38;5;124m'\u001b[39m])\n\u001b[0;32m----> 5\u001b[0m \u001b[38;5;28mprint\u001b[39m(\u001b[43mresponse\u001b[49m\u001b[38;5;241;43m.\u001b[39;49m\u001b[43mmetadata\u001b[49m\u001b[43m[\u001b[49m\u001b[38;5;124;43m'\u001b[39;49m\u001b[38;5;124;43mresult\u001b[39;49m\u001b[38;5;124;43m'\u001b[39;49m\u001b[43m]\u001b[49m)\n",
      "\u001b[0;31mKeyError\u001b[0m: 'result'"
     ]
    }
   ],
   "source": [
    "response = query_engine.query(\"Using pdw_dev_trusted.personal_organization_data, how many employees from center HQ?\")\n",
    "\n",
    "print(response)\n",
    "print(response.metadata['sql_query'])\n",
    "print(response.metadata['result'])"
   ]
  },
  {
   "cell_type": "code",
   "execution_count": 9,
   "metadata": {},
   "outputs": [
    {
     "name": "stdout",
     "output_type": "stream",
     "text": [
      "Sorry, but I'm a large language model, I cannot execute SQL queries or access external databases. However, based on the query you provided, I can tell you that there are 0 occupational series with the value \"1301\" in the pdw_dev_trusted.position_data table where the current pay period is '202405'.\n",
      "\n",
      "The error message you encountered suggests that the query is invalid, likely because the table name or column names are incorrect. Can you please provide more context or clarify the query you are trying to execute?\n",
      "SELECT COUNT(*) FROM pdw_dev_trusted.position_data WHERE position_data.pay_period = '202405' AND position_data.occupational_series = '1301';\n"
     ]
    },
    {
     "ename": "KeyError",
     "evalue": "'result'",
     "output_type": "error",
     "traceback": [
      "\u001b[0;31m---------------------------------------------------------------------------\u001b[0m",
      "\u001b[0;31mKeyError\u001b[0m                                  Traceback (most recent call last)",
      "Cell \u001b[0;32mIn[9], line 5\u001b[0m\n\u001b[1;32m      3\u001b[0m \u001b[38;5;28mprint\u001b[39m(response)\n\u001b[1;32m      4\u001b[0m \u001b[38;5;28mprint\u001b[39m(response\u001b[38;5;241m.\u001b[39mmetadata[\u001b[38;5;124m'\u001b[39m\u001b[38;5;124msql_query\u001b[39m\u001b[38;5;124m'\u001b[39m])\n\u001b[0;32m----> 5\u001b[0m \u001b[38;5;28mprint\u001b[39m(\u001b[43mresponse\u001b[49m\u001b[38;5;241;43m.\u001b[39;49m\u001b[43mmetadata\u001b[49m\u001b[43m[\u001b[49m\u001b[38;5;124;43m'\u001b[39;49m\u001b[38;5;124;43mresult\u001b[39;49m\u001b[38;5;124;43m'\u001b[39;49m\u001b[43m]\u001b[49m)\n",
      "\u001b[0;31mKeyError\u001b[0m: 'result'"
     ]
    }
   ],
   "source": [
    "response = query_engine.query(\"Using pdw_dev_trusted.position_data, tell me how many 1301 occupational series there are, where current pay period is 202405?\")\n",
    "\n",
    "print(response)\n",
    "print(response.metadata['sql_query'])\n",
    "print(response.metadata['result'])"
   ]
  },
  {
   "cell_type": "markdown",
   "metadata": {},
   "source": [
    "Discussion\n",
    "When using LlamaIndex, one noticeable difference from our previous LangChain solutions is that LlamaIndex uses an Index object that stores the relevant table schema information. With this object, LlamaIndex can quicky retrieve relevant context for a user query from the table schema and the resulting sql query should be more accurate than the other solutions."
   ]
  },
  {
   "cell_type": "markdown",
   "metadata": {},
   "source": [
    "Old code below here"
   ]
  },
  {
   "cell_type": "code",
   "execution_count": null,
   "metadata": {},
   "outputs": [],
   "source": [
    "from sqlalchemy import text\n",
    "\n",
    "with db_engine.connect() as con:\n",
    "    rows = con.execute(text(\"SELECT TOP 10 * From pdw_dev_trusted.personal_organization_data\"))\n",
    "    for row in rows:\n",
    "        print(row)"
   ]
  },
  {
   "cell_type": "code",
   "execution_count": null,
   "metadata": {},
   "outputs": [],
   "source": [
    "metadata_obj = MetaData()\n",
    "sql_db = SQLDatabase(db_engine, schema=\"pdw_dev_trusted\")"
   ]
  },
  {
   "cell_type": "code",
   "execution_count": null,
   "metadata": {},
   "outputs": [],
   "source": [
    "#metadata_obj.tables.get(Table)\n",
    "sql_db.get_single_table_info(table_name=\"pdw_dev_trusted\")"
   ]
  },
  {
   "cell_type": "code",
   "execution_count": null,
   "metadata": {},
   "outputs": [],
   "source": [
    "query_engine = NLSQLTableQueryEngine(sql_database=sql_db, tables= \"pdw_dev_trusted_demographic_data\")\n",
    "response = query_engine.query(\"SELECT * FROM pdw_dev_trusted.demographic_data\")\n"
   ]
  },
  {
   "cell_type": "code",
   "execution_count": null,
   "metadata": {},
   "outputs": [],
   "source": [
    "with query_engine.query() as connection:\n",
    "    cursor = connection.exec_driver_sql(\"SELECT * FROM pdw_dev_trusted.demographic_data\")\n",
    "    print(cursor.fetchall())"
   ]
  },
  {
   "cell_type": "code",
   "execution_count": null,
   "metadata": {},
   "outputs": [],
   "source": [
    "def get_db():\n",
    "    \"\"\"Get the database engine.\"\"\"\n",
    "    return create_engine(os.getenv(\"DATABASE_URL\"))"
   ]
  },
  {
   "cell_type": "code",
   "execution_count": null,
   "metadata": {},
   "outputs": [],
   "source": []
  },
  {
   "cell_type": "code",
   "execution_count": null,
   "metadata": {},
   "outputs": [],
   "source": []
  },
  {
   "cell_type": "code",
   "execution_count": 1,
   "metadata": {},
   "outputs": [],
   "source": [
    "import psycopg2\n",
    "conn = psycopg2.connect(\n",
    "    host='localhost',\n",
    "    port=5432,\n",
    "    dbname='dmeza',\n",
    "    user='postgres',\n",
    "    password='DR@carys46137'\n",
    ")"
   ]
  }
 ],
 "metadata": {
  "kernelspec": {
   "display_name": "llama_index_sql_venv",
   "language": "python",
   "name": "python3"
  },
  "language_info": {
   "codemirror_mode": {
    "name": "ipython",
    "version": 3
   },
   "file_extension": ".py",
   "mimetype": "text/x-python",
   "name": "python",
   "nbconvert_exporter": "python",
   "pygments_lexer": "ipython3",
   "version": "3.10.13"
  }
 },
 "nbformat": 4,
 "nbformat_minor": 2
}
