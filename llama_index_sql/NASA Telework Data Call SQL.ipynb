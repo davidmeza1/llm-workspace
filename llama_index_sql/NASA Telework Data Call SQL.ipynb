{
    "metadata": {
        "kernelspec": {
            "name": "SQL",
            "display_name": "SQL",
            "language": "sql"
        },
        "language_info": {
            "name": "sql",
            "version": ""
        },
        "extensions": {
            "azuredatastudio": {
                "version": 1,
                "views": []
            }
        }
    },
    "nbformat_minor": 2,
    "nbformat": 4,
    "cells": [
        {
            "cell_type": "code",
            "source": [
                "DECLARE @payPeriod AS INT\r\n",
                "SET @payPeriod = 202406\r\n",
                "\r\n",
                "-- national capital region \r\n",
                "-- uses State and County codes in the NCR as defined in OPMs FAQ\r\n",
                "DROP TABLE IF EXISTS #tempNCR\r\n",
                "SELECT DISTINCT uupic\r\n",
                "INTO #tempNCR\r\n",
                "FROM pdw_dev_trusted.personal_organization_data\r\n",
                "WHERE 1=1\r\n",
                "\r\n",
                "    AND current_pay_period = @payPeriod\r\n",
                "\r\n",
                "    AND (\r\n",
                "\r\n",
                "        duty_station LIKE '11%001' OR\r\n",
                "        duty_station LIKE '24%031' OR\r\n",
                "        duty_station LIKE '24%033' OR\r\n",
                "        duty_station LIKE '51%013' OR\r\n",
                "        duty_station LIKE '51%059' OR\r\n",
                "        duty_station LIKE '51%107' OR\r\n",
                "        duty_station LIKE '51%153' OR\r\n",
                "        duty_station LIKE '510040%' OR\r\n",
                "        duty_station LIKE '510900%' OR\r\n",
                "        duty_station LIKE '510930%' OR\r\n",
                "        duty_station LIKE '511549%' OR\r\n",
                "        duty_station LIKE '511550%'\r\n",
                "\r\n",
                "    )\r\n",
                "\r\n",
                "-- NCR teleworkers\r\n",
                "DROP TABLE IF EXISTS #tempNCR_TW\r\n",
                "SELECT DISTINCT uupic\r\n",
                "INTO #tempNCR_TW\r\n",
                "FROM webtads_dev_trusted.daily_charges\r\n",
                "WHERE 1=1\r\n",
                "    AND telework_flag_indicator = 'Y'\r\n",
                "    AND remote_worker_indicator = 'N'\r\n",
                "    AND uupic IN (SELECT uupic FROM #tempNCR)\r\n",
                "    AND yrpp = @payPeriod\r\n",
                "\r\n",
                "-- assigned to HQ\r\n",
                "DROP TABLE IF EXISTS #tempHQ\r\n",
                "SELECT DISTINCT uupic\r\n",
                "INTO #tempHQ\r\n",
                "FROM webtads_dev_trusted.daily_charges\r\n",
                "WHERE 1=1\r\n",
                "    AND center_text LIKE 'HQ'\r\n",
                "    AND yrpp = @payPeriod\r\n",
                "\r\n",
                "-- OIG\r\n",
                "DROP TABLE IF EXISTS #tempOIG\r\n",
                "SELECT DISTINCT uupic\r\n",
                "INTO #tempOIG\r\n",
                "FROM pdw_dev_trusted.personal_organization_data\r\n",
                "WHERE 1=1\r\n",
                "    AND center LIKE 'OIG'\r\n",
                "    AND current_pay_period = @payPeriod\r\n",
                "\r\n",
                "/* ############################################################## */\r\n",
                "\r\n",
                "SELECT DISTINCT payperiod_end_date as PAY_PERIOD_END_DATE\r\n",
                "FROM webtads_dev_trusted.daily_charges\r\n",
                "WHERE yrpp = @payPeriod\r\n",
                "\r\n",
                "-- verify headcount for civil servants onboard\r\n",
                "-- D. Total # of Employees On Board at End of Pay Period, Nationally\r\n",
                "\r\n",
                "SELECT COUNT(DISTINCT uupic) as val, 1 as col\r\n",
                "FROM webtads_dev_trusted.daily_charges\r\n",
                "WHERE 1=1\r\n",
                "    AND yrpp = @payPeriod\r\n",
                "    AND dutystatus IN ('A', 'L') \r\n",
                "\r\n",
                "\r\n",
                "UNION\r\n",
                "\r\n",
                "-- total number of employees working remotely at the end of the pay period, nationally\r\n",
                "-- E. Total # of Employee Working Remotely at End of Pay Period, Nationally\r\n",
                "\r\n",
                "SELECT COUNT(DISTINCT uupic) as val, 2 as col\r\n",
                "FROM webtads_dev_trusted.telework_requests\r\n",
                "WHERE current_pay_period = @payPeriod\r\n",
                "    AND duty_status IN ('Active', 'LWOP') \r\n",
                "    AND remote_agreement = 'Y'\r\n",
                "\r\n",
                "UNION\r\n",
                "\r\n",
                "-- # of employees on board in the National Capital Region\r\n",
                "-- F. Total # of Employees On Board at end of Pay Period, in the National Capital Region (NCR)\r\n",
                "\r\n",
                "SELECT COUNT(DISTINCT uupic) as val, 3 as col\r\n",
                "FROM webtads_dev_trusted.daily_charges\r\n",
                "WHERE 1=1\r\n",
                "    AND yrpp = @payPeriod\r\n",
                "    AND dutystatus IN ('A', 'L') \r\n",
                "    and uupic IN (SELECT uupic FROM #tempNCR)\r\n",
                "\r\n",
                "UNION\r\n",
                "\r\n",
                "-- verify # of employees teleworked during the pay period, nationally\r\n",
                "-- G. Total # of Employees who Teleworked During the Pay Period, Nationally\r\n",
                "\r\n",
                "SELECT COUNT(DISTINCT uupic) as val,  4 as col\r\n",
                "FROM webtads_dev_trusted.daily_charges\r\n",
                "WHERE 1=1\r\n",
                "    AND yrpp = @payPeriod\r\n",
                "    AND dutystatus IN ('A', 'L') \r\n",
                "    AND telework_flag_indicator = 'Y' \r\n",
                "    AND remote_worker_indicator = 'N'\r\n",
                "\r\n",
                "UNION\r\n",
                "\r\n",
                "-- # of employees who teleworked during the pay period, National Capital Region\r\n",
                "-- H. Total # of Employees who Teleworked During Pay Period, in the NCR\r\n",
                "\r\n",
                "SELECT COUNT(*) as val,  5 as col\r\n",
                "FROM #tempNCR_TW\r\n",
                "\r\n",
                "UNION\r\n",
                "\r\n",
                "-- # of employees assigned to Agency HQ and HQ-Equivalent organizations (taken to mean HQ center assignment in PDW)\r\n",
                "-- I. Total # of Employees  Assigned to Agency HQ and HQ-Equivalent Organizations\r\n",
                "\r\n",
                "SELECT COUNT(DISTINCT uupic) as val, 6 as col\r\n",
                "FROM webtads_dev_trusted.daily_charges\r\n",
                "WHERE 1=1\r\n",
                "    AND center_text = 'HQ'\r\n",
                "    AND yrpp = @payPeriod\r\n",
                "\r\n",
                "UNION\r\n",
                "\r\n",
                "-- validate regular payroll hours worked nationally\r\n",
                "-- J. Total # of Regular Payroll Hours - All Employees, Nationally\r\n",
                "\r\n",
                "SELECT SUM(a.hours_charged) as val, 7 as col\r\n",
                "FROM webtads_dev_trusted.daily_charges as a\r\n",
                "LEFT JOIN webtads_dev_trusted.leave_hour_types as b\r\n",
                "ON a.hour_type = b.[HourType Name]\r\n",
                "WHERE 1=1\r\n",
                "    AND a.yrpp = @payPeriod\r\n",
                "    AND a.hour_type LIKE 'REG%' \r\n",
                "\r\n",
                "UNION\r\n",
                "\r\n",
                "-- validate regular payroll hours coded as telework worked nationally\r\n",
                "-- K. Total # of Regular Hours Coded as Telework - All Employees, Nationally\r\n",
                "\r\n",
                "SELECT SUM(hours_charged) as val, 8 as col\r\n",
                "FROM webtads_dev_trusted.daily_charges\r\n",
                "WHERE 1=1\r\n",
                "    AND yrpp = @payPeriod\r\n",
                "    AND hour_type LIKE 'REG%'\r\n",
                "    AND telework_flag_indicator = 'Y' \r\n",
                "    AND remote_worker_indicator = 'N'\r\n",
                "\r\n",
                "UNION\r\n",
                "\r\n",
                "-- L. % of Hours Performed In-Person - All Employees, Nationally \r\n",
                "SELECT NULL as val, 9 as col\r\n",
                "FROM webtads_dev_trusted.daily_charges\r\n",
                "\r\n",
                "UNION\r\n",
                "\r\n",
                "-- total regular hours in NCR\r\n",
                "-- M. Total # of Regular Payroll Hours - Employees with Duty Stations in the NCR\r\n",
                "\r\n",
                "SELECT SUM(hours_charged) as val,  10 as col\r\n",
                "FROM webtads_dev_trusted.daily_charges\r\n",
                "WHERE 1=1\r\n",
                "    AND yrpp = @payPeriod\r\n",
                "    AND hour_type LIKE 'REG%'  \r\n",
                "    AND uupic IN (SELECT uupic FROM #tempNCR)\r\n",
                "\r\n",
                "UNION\r\n",
                "\r\n",
                "-- telework hours for NCR\r\n",
                "-- N. Total # of Regular Hours Coded as Telework - Employees with Duty Stations in the NCR\r\n",
                "\r\n",
                "SELECT SUM(hours_charged) as val, 11 as col\r\n",
                "FROM webtads_dev_trusted.daily_charges\r\n",
                "WHERE 1=1\r\n",
                "    AND yrpp = @payPeriod\r\n",
                "    AND hour_type LIKE 'REG%'\r\n",
                "    AND telework_flag_indicator = 'Y' \r\n",
                "    AND remote_worker_indicator = 'N'\r\n",
                "    AND uupic IN (SELECT uupic FROM #tempNCR)\r\n",
                "\r\n",
                "UNION\r\n",
                "\r\n",
                "-- O. % of Hours Performed In-Person - Employees with Duty Stations in the NCR\r\n",
                "SELECT NULL as val, 12 as col\r\n",
                "FROM webtads_dev_trusted.daily_charges\r\n",
                "\r\n",
                "UNION\r\n",
                "\r\n",
                "-- total regular hours in NCR, teleworkers only\r\n",
                "-- P. Total # of Regular Payroll Hours - Employees with Duty Stations in the NCR who Teleworked in the Pay Period\r\n",
                "\r\n",
                "SELECT SUM(hours_charged) as val, 13 as col\r\n",
                "FROM webtads_dev_trusted.daily_charges\r\n",
                "WHERE 1=1\r\n",
                "    AND yrpp = @payPeriod\r\n",
                "    AND hour_type LIKE 'REG%'  \r\n",
                "    AND uupic IN (SELECT uupic FROM #tempNCR_TW)\r\n",
                "\r\n",
                "UNION\r\n",
                "\r\n",
                "-- telework hours\r\n",
                "-- Q. Total # of Regular Hours Coded as Telework - Employees with Duty Stations in the NCR who Teleworked in the Pay Period\r\n",
                "\r\n",
                "SELECT SUM(hours_charged) as val, 14 as col\r\n",
                "FROM webtads_dev_trusted.daily_charges\r\n",
                "WHERE 1=1\r\n",
                "    AND yrpp = @payPeriod\r\n",
                "    AND hour_type LIKE 'REG%'  \r\n",
                "    AND telework_flag_indicator = 'Y' \r\n",
                "    AND remote_worker_indicator = 'N'\r\n",
                "    AND uupic IN (SELECT uupic FROM #tempNCR_TW)\r\n",
                "\r\n",
                "UNION\r\n",
                "\r\n",
                "--. R. % of Hours Performed In-Person - Employees with Duty Stations in the NCR who Teleworked in the Pay Period\r\n",
                "SELECT NULL as val, 15 as col\r\n",
                "FROM webtads_dev_trusted.daily_charges\r\n",
                "\r\n",
                "UNION\r\n",
                "\r\n",
                "-- total regular hours for HQ orgs\r\n",
                "-- S. Total # of Regular Payroll Hours - Employees Assigned to Agency HQ and HQ-Equivalent Organizations\r\n",
                "\r\n",
                "SELECT SUM(hours_charged) as val,  16 as col\r\n",
                "FROM webtads_dev_trusted.daily_charges\r\n",
                "WHERE 1=1\r\n",
                "    AND yrpp = @payPeriod\r\n",
                "    AND hour_type LIKE 'REG%'  \r\n",
                "    AND center_text = 'HQ'\r\n",
                "\r\n",
                "UNION\r\n",
                "\r\n",
                "-- telework hours for  HQ\r\n",
                "-- T. Total # of Regular Hours Coded as Telework - Employees Assigned to Agency HQ and HQ-Equivalent Organizations\r\n",
                "\r\n",
                "SELECT SUM(hours_charged) as val, 17 as col\r\n",
                "FROM webtads_dev_trusted.daily_charges\r\n",
                "WHERE 1=1\r\n",
                "    AND yrpp = @payPeriod\r\n",
                "    AND hour_type LIKE 'REG%'\r\n",
                "    AND telework_flag_indicator = 'Y'\r\n",
                "    AND remote_worker_indicator = 'N'\r\n",
                "    AND center_text = 'HQ'\r\n",
                "\r\n",
                "ORDER BY col ASC"
            ],
            "metadata": {
                "azdata_cell_guid": "688c6ff5-6636-40e2-ba6e-8af0d52cea4c",
                "language": "sql"
            },
            "outputs": [
                {
                    "output_type": "display_data",
                    "data": {
                        "text/html": "(3878 rows affected)"
                    },
                    "metadata": {}
                },
                {
                    "output_type": "display_data",
                    "data": {
                        "text/html": "(2844 rows affected)"
                    },
                    "metadata": {}
                },
                {
                    "output_type": "display_data",
                    "data": {
                        "text/html": "(1814 rows affected)"
                    },
                    "metadata": {}
                },
                {
                    "output_type": "display_data",
                    "data": {
                        "text/html": "(178 rows affected)"
                    },
                    "metadata": {}
                },
                {
                    "output_type": "display_data",
                    "data": {
                        "text/html": "(1 row affected)"
                    },
                    "metadata": {}
                },
                {
                    "output_type": "display_data",
                    "data": {
                        "text/html": "(17 rows affected)"
                    },
                    "metadata": {}
                },
                {
                    "output_type": "display_data",
                    "data": {
                        "text/html": "Total execution time: 00:00:12.062"
                    },
                    "metadata": {}
                },
                {
                    "output_type": "execute_result",
                    "metadata": {},
                    "execution_count": 3,
                    "data": {
                        "application/vnd.dataresource+json": {
                            "schema": {
                                "fields": [
                                    {
                                        "name": "PAY_PERIOD_END_DATE"
                                    }
                                ]
                            },
                            "data": [
                                {
                                    "PAY_PERIOD_END_DATE": "2024-03-09"
                                }
                            ]
                        },
                        "text/html": [
                            "<table>",
                            "<tr><th>PAY_PERIOD_END_DATE</th></tr>",
                            "<tr><td>2024-03-09</td></tr>",
                            "</table>"
                        ]
                    }
                },
                {
                    "output_type": "execute_result",
                    "metadata": {},
                    "execution_count": 3,
                    "data": {
                        "application/vnd.dataresource+json": {
                            "schema": {
                                "fields": [
                                    {
                                        "name": "val"
                                    },
                                    {
                                        "name": "col"
                                    }
                                ]
                            },
                            "data": [
                                {
                                    "val": "18382",
                                    "col": "1"
                                },
                                {
                                    "val": "2210",
                                    "col": "2"
                                },
                                {
                                    "val": "3873",
                                    "col": "3"
                                },
                                {
                                    "val": "12296",
                                    "col": "4"
                                },
                                {
                                    "val": "2844",
                                    "col": "5"
                                },
                                {
                                    "val": "1814",
                                    "col": "6"
                                },
                                {
                                    "val": "1315748.75",
                                    "col": "7"
                                },
                                {
                                    "val": "453128.75",
                                    "col": "8"
                                },
                                {
                                    "val": "NULL",
                                    "col": "9"
                                },
                                {
                                    "val": "278249.5",
                                    "col": "10"
                                },
                                {
                                    "val": "123155",
                                    "col": "11"
                                },
                                {
                                    "val": "NULL",
                                    "col": "12"
                                },
                                {
                                    "val": "210092.75",
                                    "col": "13"
                                },
                                {
                                    "val": "123155",
                                    "col": "14"
                                },
                                {
                                    "val": "NULL",
                                    "col": "15"
                                },
                                {
                                    "val": "132361.75",
                                    "col": "16"
                                },
                                {
                                    "val": "38185.75",
                                    "col": "17"
                                }
                            ]
                        },
                        "text/html": [
                            "<table>",
                            "<tr><th>val</th><th>col</th></tr>",
                            "<tr><td>18382</td><td>1</td></tr>",
                            "<tr><td>2210</td><td>2</td></tr>",
                            "<tr><td>3873</td><td>3</td></tr>",
                            "<tr><td>12296</td><td>4</td></tr>",
                            "<tr><td>2844</td><td>5</td></tr>",
                            "<tr><td>1814</td><td>6</td></tr>",
                            "<tr><td>1315748.75</td><td>7</td></tr>",
                            "<tr><td>453128.75</td><td>8</td></tr>",
                            "<tr><td>NULL</td><td>9</td></tr>",
                            "<tr><td>278249.5</td><td>10</td></tr>",
                            "<tr><td>123155</td><td>11</td></tr>",
                            "<tr><td>NULL</td><td>12</td></tr>",
                            "<tr><td>210092.75</td><td>13</td></tr>",
                            "<tr><td>123155</td><td>14</td></tr>",
                            "<tr><td>NULL</td><td>15</td></tr>",
                            "<tr><td>132361.75</td><td>16</td></tr>",
                            "<tr><td>38185.75</td><td>17</td></tr>",
                            "</table>"
                        ]
                    }
                }
            ],
            "execution_count": 3
        }
    ]
}